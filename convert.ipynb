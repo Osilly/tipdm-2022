{
 "cells": [
  {
   "cell_type": "code",
   "execution_count": 1,
   "metadata": {},
   "outputs": [],
   "source": [
    "from collections import OrderedDict\n",
    "import json\n",
    "import os\n",
    "import cv2\n",
    "import numpy as np\n",
    "from tqdm import tqdm\n",
    "import threading"
   ]
  },
  {
   "cell_type": "code",
   "execution_count": 11,
   "metadata": {},
   "outputs": [],
   "source": [
    "with open(\"mydataset1/expand_train.json\") as f:\n",
    "    dic_expand_train = json.load(f)\n",
    "with open(\"mydataset1/expand_valid.json\") as f:\n",
    "    dic_expand_valid = json.load(f)\n"
   ]
  },
  {
   "cell_type": "code",
   "execution_count": 12,
   "metadata": {},
   "outputs": [],
   "source": [
    "def dic2txt(dic, save_dir):\n",
    "    if not os.path.exists(save_dir):\n",
    "        os.makedirs(save_dir)\n",
    "    for path, boxes in tqdm(dic.items(), total=len(dic)):\n",
    "        if len(boxes) == 0:\n",
    "            continue\n",
    "        with open(\n",
    "            os.path.join(\n",
    "                save_dir,\n",
    "                path.split(\"/\")[-1].split(\".\")[0] + \".txt\",\n",
    "            ),\n",
    "            \"w+\",\n",
    "        ) as f:\n",
    "            for box in boxes:\n",
    "                img = cv2.imread(path)\n",
    "                h, w = img.shape[:2]\n",
    "                x_center = (box[1] + box[3]) / 2\n",
    "                y_center = (box[2] + box[4]) / 2\n",
    "                box_w = box[3] - box[1]\n",
    "                box_h = box[4] - box[2]\n",
    "                box = [int(x) for x in box]\n",
    "                box[1] = x_center / w\n",
    "                box[2] = y_center / h\n",
    "                box[3] = box_w / w\n",
    "                box[4] = box_h / h\n",
    "                for word in box:\n",
    "                    f.write(str(word))\n",
    "                    f.write(\" \")\n",
    "                f.write(\"\\n\")\n"
   ]
  },
  {
   "cell_type": "code",
   "execution_count": null,
   "metadata": {},
   "outputs": [
    {
     "name": "stderr",
     "output_type": "stream",
     "text": [
      "100%|██████████| 314/314 [00:16<00:00, 19.60it/s]]\n",
      "100%|██████████| 2325/2325 [01:52<00:00, 20.67it/s]\n"
     ]
    }
   ],
   "source": [
    "thread = []\n",
    "thread.append(threading.Thread(target=dic2txt, args=(dic_expand_train, \"mydataset1/labels/expand_train\")))\n",
    "thread.append(threading.Thread(target=dic2txt, args=(dic_expand_valid, \"mydataset1/labels/expand_valid\")))\n",
    "for t_thread in thread:\n",
    "    t_thread.start()"
   ]
  },
  {
   "cell_type": "code",
   "execution_count": 14,
   "metadata": {},
   "outputs": [],
   "source": [
    "# dic2txt(dic_expand_train, \"mydataset1/labels/expand_train\")\n",
    "# dic2txt(dic_expand_valid, \"mydataset1/labels/expand_valid\")"
   ]
  },
  {
   "cell_type": "code",
   "execution_count": null,
   "metadata": {},
   "outputs": [],
   "source": []
  }
 ],
 "metadata": {
  "interpreter": {
   "hash": "0b44c525ca95e5dbf893da2282eb3ec3f420cb9fa59d94f9af90ca833dc1a37c"
  },
  "kernelspec": {
   "display_name": "Python 3.7.10 ('pytorch')",
   "language": "python",
   "name": "python3"
  },
  "language_info": {
   "codemirror_mode": {
    "name": "ipython",
    "version": 3
   },
   "file_extension": ".py",
   "mimetype": "text/x-python",
   "name": "python",
   "nbconvert_exporter": "python",
   "pygments_lexer": "ipython3",
   "version": "3.7.10"
  },
  "orig_nbformat": 4
 },
 "nbformat": 4,
 "nbformat_minor": 2
}
